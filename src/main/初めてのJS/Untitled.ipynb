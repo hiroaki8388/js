{
 "cells": [
  {
   "cell_type": "markdown",
   "metadata": {},
   "source": [
    "<head>\n",
    "<meta charset=\"utf-8\"> <title>ex02-04-1</title>\n",
    "<link rel=\"stylesheet\" href=\"main.css\">\n",
    "</head>\n",
    "<body>\n",
    "<p>『初めてのJavaScript 第3版』へようこそ</p>\n",
    "<script src=\"main.js\"></script> </body>\n",
    "</html>"
   ]
  },
  {
   "cell_type": "markdown",
   "metadata": {},
   "source": [
    "<html>\n",
    "<head>\n",
    "<meta charset=\"UTF-8\"> <title>ex02-03-2</title>\n",
    "<!-- これはHTMLのコメント...\n",
    "複数行に書くこともできる。 --> <style>\n",
    "body { color: red; } /* 文字の色を赤にする */ /* これはCSSのコメント...\n",
    "これも複数行に書ける */ </style>\n",
    "<script>\n",
    "console.log(\"エコー \"); // これはJavaScriptのコメント /* JavaScriptではインラインコメントとブロックコメントの\n",
    "両方が使える。 */ </script>\n",
    "</head>\n",
    "<body>\n",
    "<p>『初めてのJavaScript 第3版』へようこそ</p> <!-- 上の文字は赤で表示される -->\n",
    "</body>"
   ]
  },
  {
   "cell_type": "code",
   "execution_count": null,
   "metadata": {
    "collapsed": true
   },
   "outputs": [],
   "source": []
  }
 ],
 "metadata": {
  "kernelspec": {
   "display_name": "NodeJS",
   "language": "javascript",
   "name": "nodejs"
  },
  "language_info": {
   "codemirror_mode": "javascript",
   "file_extension": ".js",
   "mimetype": "text/javascript",
   "name": "nodejs",
   "pygments_lexer": "javascript",
   "version": "0.10"
  }
 },
 "nbformat": 4,
 "nbformat_minor": 2
}
